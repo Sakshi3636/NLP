{
 "cells": [
  {
   "cell_type": "code",
   "execution_count": 3,
   "metadata": {},
   "outputs": [],
   "source": [
    "from nltk import ngrams\n",
    "from nltk.util import ngrams"
   ]
  },
  {
   "cell_type": "code",
   "execution_count": 5,
   "metadata": {},
   "outputs": [
    {
     "name": "stdout",
     "output_type": "stream",
     "text": [
      "\n",
      "***********   UNIGRAM    ************************\n",
      "('The',)\n",
      "('universe',)\n",
      "('is',)\n",
      "('vast',)\n",
      "('and',)\n",
      "('full',)\n",
      "('of',)\n",
      "('mysteries',)\n",
      "('waiting',)\n",
      "('to',)\n",
      "('be',)\n",
      "('explored.',)\n"
     ]
    }
   ],
   "source": [
    "n = 1\n",
    "sentence = 'The universe is vast and full of mysteries waiting to be explored.'\n",
    "unigrams = ngrams(sentence.split(), n)\n",
    "print(f\"\\n***********   UNIGRAM    ************************\")\n",
    "for item in unigrams:\n",
    "    print(item)"
   ]
  },
  {
   "cell_type": "code",
   "execution_count": 6,
   "metadata": {},
   "outputs": [
    {
     "name": "stdout",
     "output_type": "stream",
     "text": [
      "\n",
      "***********   BIGRAM    ************************\n",
      "('The', 'universe')\n",
      "('universe', 'is')\n",
      "('is', 'vast')\n",
      "('vast', 'and')\n",
      "('and', 'full')\n",
      "('full', 'of')\n",
      "('of', 'mysteries')\n",
      "('mysteries', 'waiting')\n",
      "('waiting', 'to')\n",
      "('to', 'be')\n",
      "('be', 'explored.')\n"
     ]
    }
   ],
   "source": [
    "n = 2\n",
    "sentence = 'The universe is vast and full of mysteries waiting to be explored.'\n",
    "unigrams = ngrams(sentence.split(), n)\n",
    "print(f\"\\n***********   BIGRAM    ************************\")\n",
    "for item in unigrams:\n",
    "    print(item)"
   ]
  },
  {
   "cell_type": "code",
   "execution_count": 7,
   "metadata": {},
   "outputs": [
    {
     "name": "stdout",
     "output_type": "stream",
     "text": [
      "\n",
      "***********   TRIGRAM    ************************\n",
      "('The', 'universe', 'is')\n",
      "('universe', 'is', 'vast')\n",
      "('is', 'vast', 'and')\n",
      "('vast', 'and', 'full')\n",
      "('and', 'full', 'of')\n",
      "('full', 'of', 'mysteries')\n",
      "('of', 'mysteries', 'waiting')\n",
      "('mysteries', 'waiting', 'to')\n",
      "('waiting', 'to', 'be')\n",
      "('to', 'be', 'explored')\n",
      "('be', 'explored', '.')\n"
     ]
    }
   ],
   "source": [
    "n = 3\n",
    "sentence = 'The universe is vast and full of mysteries waiting to be explored .'\n",
    "unigrams = ngrams(sentence.split(), n)\n",
    "print(f\"\\n***********   TRIGRAM    ************************\")\n",
    "for item in unigrams:\n",
    "    print(item)"
   ]
  }
 ],
 "metadata": {
  "kernelspec": {
   "display_name": "Python 3",
   "language": "python",
   "name": "python3"
  },
  "language_info": {
   "codemirror_mode": {
    "name": "ipython",
    "version": 3
   },
   "file_extension": ".py",
   "mimetype": "text/x-python",
   "name": "python",
   "nbconvert_exporter": "python",
   "pygments_lexer": "ipython3",
   "version": "3.12.2"
  }
 },
 "nbformat": 4,
 "nbformat_minor": 2
}
